{
 "cells": [
  {
   "cell_type": "code",
   "execution_count": null,
   "metadata": {},
   "outputs": [],
   "source": [
    "%pip install numpy"
   ]
  },
  {
   "cell_type": "code",
   "execution_count": null,
   "metadata": {},
   "outputs": [],
   "source": [
    "%time\n",
    "import numpy as np\n",
    "\n",
    "temperature = [20.1, 20.1, 20.2, 20.4, 20.8, 30]\n",
    "print(temperature)\n",
    "\n",
    "t1 = temperature * 5\n",
    "\n",
    "print(f\"При множенні на 5 маємо: {t1}\")\n",
    "\n",
    "t1 = list()\n",
    "for x in temperature:\n",
    "    t1.append(x*5 + 20)\n",
    "\n",
    "print(f\"При множенні на 5 маємо: {t1}, тип даних {type(t1)}\")\n",
    "\n",
    "t1 = [ x*5 + 20 for x in temperature] \n",
    "print(f\"Тепер отримаємо: {t1}\") "
   ]
  },
  {
   "cell_type": "code",
   "execution_count": null,
   "metadata": {},
   "outputs": [],
   "source": [
    "t2 = np.array(temperature)\n",
    "print(\"Масив з використанням методів NumPy\", t2,\" тип даних \", type(t2))\n",
    "\n",
    "t3 = t2 * 5 + 20\n",
    "print(\"При множенні на 5 отримуємо:\", t3)\n",
    "t3 = t2 % 5\n",
    "print(\"При множенні на 5 отримуємо:\", t3)"
   ]
  },
  {
   "cell_type": "code",
   "execution_count": null,
   "metadata": {},
   "outputs": [],
   "source": [
    "ll = [1, 2, 3, 4, 5]\n",
    "l2 = [6, 7, 8, 9, 10]\n",
    "l3 = [11, 12, 13, 14, 15]\n",
    "vector_1 = np.array(ll)\n",
    "vector_2 = np.array([ll, l2, l3])\n",
    "vector_3 = np.array([[ll, l2, l3], [ll, l2, l3],  [ll, l2, l3],  [ll, l2, l3]])\n",
    "\n",
    "print(f\"Це є List {ll}, Масив numpy \\n {vector_1},\\nМасив numpy \\n {vector_2},\\nМасив numpy \\n {vector_3}\")\n",
    "\n",
    "t1 = vector_1 * 5\n",
    "t2 = vector_2 * 5\n",
    "t3 = vector_3 * 5\n",
    "print(f\"Масив numpy \\n {t1},\\nМасив numpy \\n {t2},\\nМасив numpy \\n {t3}\")"
   ]
  },
  {
   "cell_type": "code",
   "execution_count": null,
   "metadata": {},
   "outputs": [],
   "source": [
    "print(\"\\nВектор має розмір\", vector_1.shape)\n",
    "print(\"\\nВектор має розмір\", vector_2.shape)\n",
    "print(\"\\nВектор має розмір\", vector_3.shape)"
   ]
  },
  {
   "cell_type": "code",
   "execution_count": null,
   "metadata": {},
   "outputs": [],
   "source": [
    "vector_row = np.array([[1, -5, 3, 2, 4]])\n",
    "vector_column = np.array([[1], \n",
    "                          [2], \n",
    "                          [3], \n",
    "                          [4]])\n",
    "print(vector_row, \"\\nВектор має розмір\", vector_row.shape)\n",
    "print(vector_column, \"\\nВектор має розмір\", vector_column.shape)"
   ]
  },
  {
   "cell_type": "code",
   "execution_count": 41,
   "metadata": {},
   "outputs": [
    {
     "name": "stdout",
     "output_type": "stream",
     "text": [
      "[1, 3, 5, 7, 9]\n",
      "Просто значення від 1 до 10 [ 1  2  3  4  5  6  7  8  9 10]\n",
      "(10,)\n",
      "Перший елемент масиву =  1\n",
      "Останній елемент масиву =  10\n"
     ]
    }
   ],
   "source": [
    "a = range(1,11,2)\n",
    "print(list(a))\n",
    "b = np.arange(1,11)\n",
    "print(\"Просто значення від 1 до 10\", b)\n",
    "print(b.shape)\n",
    "print(\"Перший елемент масиву = \", b[0])\n",
    "print(\"Останній елемент масиву = \", b[-1])"
   ]
  },
  {
   "cell_type": "code",
   "execution_count": 52,
   "metadata": {},
   "outputs": [
    {
     "data": {
      "text/plain": [
       "[10, 9, 8, 7]"
      ]
     },
     "execution_count": 52,
     "metadata": {},
     "output_type": "execute_result"
    }
   ],
   "source": [
    "a = range(1,11)\n",
    "list(a[-1:-5:-1])"
   ]
  },
  {
   "cell_type": "code",
   "execution_count": 62,
   "metadata": {},
   "outputs": [
    {
     "name": "stdout",
     "output_type": "stream",
     "text": [
      "[ 1  2  3  4  5  6  7  8  9 10 11 12 13 14 15 16 17 18 19 20 21 22 23 24\n",
      " 25 26 27 28 29 30 31 32 33 34 35 36 37 38 39 40 41 42 43 44 45 46 47 48\n",
      " 49 50 51 52 53 54 55 56 57 58 59 60 61 62 63 64 65 66 67 68 69 70 71 72\n",
      " 73 74 75 76 77 78 79 80 81 82 83 84 85 86 87 88 89 90 91 92 93 94 95 96\n",
      " 97 98 99]\n",
      "Це питають на всіх інтервю оп Пайтону: [99 98 97 96 95 94 93 92 91 90 89 88 87 86 85 84 83 82 81 80 79 78 77 76\n",
      " 75 74 73 72 71 70 69 68 67 66 65 64 63 62 61 60 59 58 57 56 55 54 53 52\n",
      " 51 50 49 48 47 46 45 44 43 42 41 40 39 38 37 36 35 34 33 32 31 30 29 28\n",
      " 27 26 25 24 23 22 21 20 19 18 17 16 15 14 13 12 11 10  9  8  7  6  5  4\n",
      "  3  2  1]\n",
      "[1 2 3]\n",
      "[4 5 6]\n",
      "[99 98 97]\n",
      "Нарізаємо масив по 3 елементи та створюємо матрицю:\n",
      " [[1 2 3]\n",
      " [4 5 6]\n",
      " [7 8 9]]\n",
      "Використовуючи відємні індекси:\n",
      " [[99 98 97]\n",
      " [70 69 68]\n",
      " [ 7  8  9]]\n"
     ]
    }
   ],
   "source": [
    "b = np.arange(1,100)\n",
    "print(b[:])\n",
    "print(\"Це питають на всіх інтервю оп Пайтону:\", b[::-1])\n",
    "print(b[0:2+1])\n",
    "print(b[3:6])\n",
    "#Можна міняти крок, який є третім елементом\n",
    "print(b[-1:-4:-1])\n",
    "\n",
    "c = np.array([b[0:3], b[3:6], b[6:9]])\n",
    "print(\"Нарізаємо масив по 3 елементи та створюємо матрицю:\\n\", c)\n",
    "\n",
    "c = np.array([b[-1:-4:-1], b[-30:-33:-1], b[6:9]])\n",
    "print(\"Використовуючи відємні індекси:\\n\",c)"
   ]
  },
  {
   "cell_type": "code",
   "execution_count": 89,
   "metadata": {},
   "outputs": [
    {
     "name": "stdout",
     "output_type": "stream",
     "text": [
      "Теоретично буде мати кількість елементів:  22.5\n",
      "[0.04 0.12 0.2  0.28 0.36 0.44 0.52 0.6  0.68 0.76 0.84 0.92 1.   1.08\n",
      " 1.16 1.24 1.32 1.4  1.48 1.56 1.64 1.72 1.8 ]\n",
      "Arange згенерував  23  елементи\n",
      "Після перемноження: [0.1 0.3 0.5 0.7 0.9 1.1 1.3 1.5 1.7 1.9 2.1 2.3 2.5 2.7 2.9 3.1 3.3 3.5\n",
      " 3.7 3.9 4.1 4.3 4.5]\n",
      "При збільшенні кількості знаків після коми в нас виникає похибка округлення:\n",
      " [0.04       0.12       0.19999999 0.28       0.35999998 0.43999997\n",
      " 0.52       0.6        0.68       0.76       0.84       0.92\n",
      " 1.         1.0799999  1.16       1.2399999  1.3199999  1.4\n",
      " 1.4799999  1.56       1.6399999  1.7199999  1.8       ]\n",
      "Базовий приклад похибки:  0.30000000000000004\n"
     ]
    }
   ],
   "source": [
    "start = 0.04\n",
    "stop = 1.84\n",
    "N = (stop - start) / 0.08\n",
    "print(\"Теоретично буде мати кількість елементів: \", N)\n",
    "x = np.arange(start, stop, 0.08)\n",
    "print(x)\n",
    "print(\"Arange згенерував \", len(x), \" елементи\")\n",
    "y = x * 2.5\n",
    "print(\"Після перемноження:\", y)\n",
    "x = np.arange(0.04, 1.84, 0.08, dtype=np.float32)\n",
    "print(\"При збільшенні кількості знаків після коми в нас виникає похибка округлення:\\n\",x)\n",
    "\n",
    "print (\"Базовий приклад похибки: \", 0.1 + 0.1 + 0.1)"
   ]
  },
  {
   "cell_type": "code",
   "execution_count": 91,
   "metadata": {},
   "outputs": [
    {
     "name": "stdout",
     "output_type": "stream",
     "text": [
      "Ми хочемо мати 23 елементи:\n",
      "[0.04       0.12181818 0.20363636 0.28545455 0.36727273 0.44909091\n",
      " 0.53090909 0.61272727 0.69454545 0.77636364 0.85818182 0.94\n",
      " 1.02181818 1.10363636 1.18545455 1.26727273 1.34909091 1.43090909\n",
      " 1.51272727 1.59454545 1.67636364 1.75818182 1.84      ]\n",
      "Linspace згенерував  23  елементи\n",
      "[0.04 0.12 0.2  0.29 0.37 0.45 0.53 0.61 0.69 0.78 0.86 0.94 1.02 1.1\n",
      " 1.19 1.27 1.35 1.43 1.51 1.59 1.68 1.76 1.84]\n",
      "Крок буде: 0.08181818181818182\n"
     ]
    }
   ],
   "source": [
    "print(\"Ми хочемо мати 23 елементи:\")\n",
    "x, step = np.linspace(start, stop, 23, endpoint=True, retstep=True)\n",
    "print(x)\n",
    "print(\"Linspace згенерував \", len(x), \" елементи\")\n",
    "print(np.round(x, 2))\n",
    "print(\"Крок буде:\", step)\n"
   ]
  }
 ],
 "metadata": {
  "kernelspec": {
   "display_name": "Python 3",
   "language": "python",
   "name": "python3"
  },
  "language_info": {
   "codemirror_mode": {
    "name": "ipython",
    "version": 3
   },
   "file_extension": ".py",
   "mimetype": "text/x-python",
   "name": "python",
   "nbconvert_exporter": "python",
   "pygments_lexer": "ipython3",
   "version": "3.11.0"
  },
  "orig_nbformat": 4,
  "vscode": {
   "interpreter": {
    "hash": "72b2382ece9768098284d92bbc69d35954e75b60d1e25897d1389c232f4796f0"
   }
  }
 },
 "nbformat": 4,
 "nbformat_minor": 2
}
