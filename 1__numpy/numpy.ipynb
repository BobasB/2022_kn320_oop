{
 "cells": [
  {
   "cell_type": "code",
   "execution_count": null,
   "metadata": {},
   "outputs": [],
   "source": [
    "%pip install numpy"
   ]
  },
  {
   "cell_type": "code",
   "execution_count": null,
   "metadata": {},
   "outputs": [],
   "source": [
    "%time\n",
    "import numpy as np\n",
    "\n",
    "temperature = [20.1, 20.1, 20.2, 20.4, 20.8, 30]\n",
    "print(temperature)\n",
    "\n",
    "t1 = temperature * 5\n",
    "\n",
    "print(f\"При множенні на 5 маємо: {t1}\")\n",
    "\n",
    "t1 = list()\n",
    "for x in temperature:\n",
    "    t1.append(x*5 + 20)\n",
    "\n",
    "print(f\"При множенні на 5 маємо: {t1}, тип даних {type(t1)}\")\n",
    "\n",
    "t1 = [ x*5 + 20 for x in temperature] \n",
    "print(f\"Тепер отримаємо: {t1}\") "
   ]
  },
  {
   "cell_type": "code",
   "execution_count": null,
   "metadata": {},
   "outputs": [],
   "source": [
    "t2 = np.array(temperature)\n",
    "print(\"Масив з використанням методів NumPy\", t2,\" тип даних \", type(t2))\n",
    "\n",
    "t3 = t2 * 5 + 20\n",
    "print(\"При множенні на 5 отримуємо:\", t3)\n",
    "t3 = t2 % 5\n",
    "print(\"При множенні на 5 отримуємо:\", t3)"
   ]
  },
  {
   "cell_type": "code",
   "execution_count": null,
   "metadata": {},
   "outputs": [],
   "source": [
    "ll = [1, 2, 3, 4, 5]\n",
    "l2 = [6, 7, 8, 9, 10]\n",
    "l3 = [11, 12, 13, 14, 15]\n",
    "vector_1 = np.array(ll)\n",
    "vector_2 = np.array([ll, l2, l3])\n",
    "vector_3 = np.array([[ll, l2, l3], [ll, l2, l3],  [ll, l2, l3],  [ll, l2, l3]])\n",
    "\n",
    "print(f\"Це є List {ll}, Масив numpy \\n {vector_1},\\nМасив numpy \\n {vector_2},\\nМасив numpy \\n {vector_3}\")\n",
    "\n",
    "t1 = vector_1 * 5\n",
    "t2 = vector_2 * 5\n",
    "t3 = vector_3 * 5\n",
    "print(f\"Масив numpy \\n {t1},\\nМасив numpy \\n {t2},\\nМасив numpy \\n {t3}\")"
   ]
  },
  {
   "cell_type": "code",
   "execution_count": null,
   "metadata": {},
   "outputs": [],
   "source": [
    "print(\"\\nВектор має розмір\", vector_1.shape)\n",
    "print(\"\\nВектор має розмір\", vector_2.shape)\n",
    "print(\"\\nВектор має розмір\", vector_3.shape)"
   ]
  },
  {
   "cell_type": "code",
   "execution_count": null,
   "metadata": {},
   "outputs": [],
   "source": [
    "vector_row = np.array([[1, -5, 3, 2, 4]])\n",
    "vector_column = np.array([[1], \n",
    "                          [2], \n",
    "                          [3], \n",
    "                          [4]])\n",
    "print(vector_row, \"\\nВектор має розмір\", vector_row.shape)\n",
    "print(vector_column, \"\\nВектор має розмір\", vector_column.shape)"
   ]
  },
  {
   "cell_type": "code",
   "execution_count": null,
   "metadata": {},
   "outputs": [],
   "source": [
    "a = range(1,11,2)\n",
    "print(list(a))\n",
    "b = np.arange(1,11)\n",
    "print(\"Просто значення від 1 до 10\", b)\n",
    "print(b.shape)\n",
    "print(\"Перший елемент масиву = \", b[0])\n",
    "print(\"Останній елемент масиву = \", b[-1])"
   ]
  },
  {
   "cell_type": "code",
   "execution_count": null,
   "metadata": {},
   "outputs": [],
   "source": [
    "a = range(1,11)\n",
    "list(a[-1:-5:-1])"
   ]
  },
  {
   "cell_type": "code",
   "execution_count": null,
   "metadata": {},
   "outputs": [],
   "source": [
    "b = np.arange(1,100)\n",
    "print(b[:])\n",
    "print(\"Це питають на всіх інтервю оп Пайтону:\", b[::-1])\n",
    "print(b[0:2+1])\n",
    "print(b[3:6])\n",
    "#Можна міняти крок, який є третім елементом\n",
    "print(b[-1:-4:-1])\n",
    "\n",
    "c = np.array([b[0:3], b[3:6], b[6:9]])\n",
    "print(\"Нарізаємо масив по 3 елементи та створюємо матрицю:\\n\", c)\n",
    "\n",
    "c = np.array([b[-1:-4:-1], b[-30:-33:-1], b[6:9]])\n",
    "print(\"Використовуючи відємні індекси:\\n\",c)"
   ]
  },
  {
   "cell_type": "code",
   "execution_count": null,
   "metadata": {},
   "outputs": [],
   "source": [
    "start = 0.04\n",
    "stop = 1.84\n",
    "N = (stop - start) / 0.08\n",
    "print(\"Теоретично буде мати кількість елементів: \", N)\n",
    "x = np.arange(start, stop, 0.08)\n",
    "print(x)\n",
    "print(\"Arange згенерував \", len(x), \" елементи\")\n",
    "y = x * 2.5\n",
    "print(\"Після перемноження:\", y)\n",
    "x = np.arange(0.04, 1.84, 0.08, dtype=np.float32)\n",
    "print(\"При збільшенні кількості знаків після коми в нас виникає похибка округлення:\\n\",x)\n",
    "\n",
    "print (\"Базовий приклад похибки: \", 0.1 + 0.1 + 0.1)"
   ]
  },
  {
   "cell_type": "code",
   "execution_count": null,
   "metadata": {},
   "outputs": [],
   "source": [
    "print(\"Ми хочемо мати 23 елементи:\")\n",
    "x, step = np.linspace(start, stop, 23, endpoint=True, retstep=True)\n",
    "print(x)\n",
    "print(\"Linspace згенерував \", len(x), \" елементи\")\n",
    "print(np.round(x, 2))\n",
    "print(\"Крок буде:\", step)\n"
   ]
  }
 ],
 "metadata": {
  "kernelspec": {
   "display_name": "Python 3",
   "language": "python",
   "name": "python3"
  },
  "language_info": {
   "codemirror_mode": {
    "name": "ipython",
    "version": 3
   },
   "file_extension": ".py",
   "mimetype": "text/x-python",
   "name": "python",
   "nbconvert_exporter": "python",
   "pygments_lexer": "ipython3",
   "version": "3.11.0"
  },
  "orig_nbformat": 4,
  "vscode": {
   "interpreter": {
    "hash": "72b2382ece9768098284d92bbc69d35954e75b60d1e25897d1389c232f4796f0"
   }
  }
 },
 "nbformat": 4,
 "nbformat_minor": 2
}
