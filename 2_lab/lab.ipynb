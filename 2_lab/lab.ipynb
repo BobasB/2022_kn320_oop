{
 "cells": [
  {
   "cell_type": "markdown",
   "metadata": {},
   "source": [
    "## Базові типи даних\n",
    "### числові та стічкові "
   ]
  },
  {
   "cell_type": "code",
   "execution_count": 6,
   "metadata": {},
   "outputs": [],
   "source": [
    "int_1 = 11\n",
    "str_1 = 'Це буде Стрічка'\n",
    "float_1 = 5.2"
   ]
  },
  {
   "cell_type": "code",
   "execution_count": 14,
   "metadata": {},
   "outputs": [
    {
     "name": "stdout",
     "output_type": "stream",
     "text": [
      "Змінна має тип <class 'int'> Та зНачення 11 Змінна має тип <class 'float'> Та зНачення 5.2 Змінна має тип <class 'str'> Та зНачення Це буде Стрічка\n",
      "1. Змінна має тип <class 'int'> Та значення 11\n",
      "2. Змінна має тип <class 'int'> Та значення 11\n",
      "3. Змінна має тип <class 'int'> Та значення 11\n",
      "4. Змінна має тип <class 'int'> Та значення 11\n"
     ]
    }
   ],
   "source": [
    "print(\"Змінна має тип\", type(int_1), \"Та зНачення\", int_1, \"Змінна має тип\", type(float_1), \"Та зНачення\", float_1, \"Змінна має тип\", type(str_1), \"Та зНачення\", str_1)\n",
    "\n",
    "\n",
    "print(\"1. Змінна має тип\", type(int_1), \"Та значення\", int_1)\n",
    "\n",
    "print(\"2. Змінна має тип \" + str(type(int_1)) + \" Та значення \" + str(int_1))\n",
    "\n",
    "print(\"3. Змінна має тип {0} Та значення {1}\".format(type(int_1), int_1))\n",
    "\n",
    "print(f\"4. Змінна має тип {type(int_1)} Та значення {int_1}\")"
   ]
  },
  {
   "cell_type": "markdown",
   "metadata": {},
   "source": [
    "### Знайомимось з комплексними типами даних\n",
    "#### List"
   ]
  },
  {
   "cell_type": "code",
   "execution_count": 29,
   "metadata": {},
   "outputs": [
    {
     "name": "stdout",
     "output_type": "stream",
     "text": [
      "Це є тип <class 'list'> та його елементи [1, 2, 8]\n",
      "Це є тип <class 'list'> та його елементи ['String', 1, 15.2, 'Ура', ['abc', 15], '!!!!']\n",
      "Під порядковим номером 2 є значення 15.2\n",
      "Ми навчились програмувати !!!! Ура\n",
      "['String', 1, 15.2, 'Ура', ['abc', 15], '!!!!', 'Новий елемент']\n"
     ]
    }
   ],
   "source": [
    "ll_1 = list([1, 2, 8])\n",
    "print(f\"Це є тип {type(ll_1)} та його елементи {ll_1}\")\n",
    "\n",
    "ll_2 = [\"String\", 1, 15.2, \"Ура\" , [\"abc\", 15], \"!!!!\"]\n",
    "print(f\"Це є тип {type(ll_2)} та його елементи {ll_2}\")\n",
    "print(f\"Під порядковим номером {ll_2.index(15.2)} є значення {ll_2[2]}\")\n",
    "\n",
    "print(f\"Ми навчились програмувати {ll_2[-1]} {ll_2[-3]}\")\n",
    "\n",
    "ll_2.append(\"Новий елемент\")\n",
    "print(ll_2)\n"
   ]
  },
  {
   "cell_type": "markdown",
   "metadata": {},
   "source": [
    "### Tuples"
   ]
  },
  {
   "cell_type": "code",
   "execution_count": 30,
   "metadata": {},
   "outputs": [
    {
     "name": "stdout",
     "output_type": "stream",
     "text": [
      "Це є тип <class 'tuple'> та його елементи ('String', 1, 15.2, 'Ура', ['abc', 15], '!!!!', 'Новий елемент')\n",
      "1\n"
     ]
    }
   ],
   "source": [
    "tt = tuple(ll_2)\n",
    "print(f\"Це є тип {type(tt)} та його елементи {tt}\")\n",
    "print(tt.count('Ура'))"
   ]
  },
  {
   "cell_type": "markdown",
   "metadata": {},
   "source": [
    "### Set"
   ]
  },
  {
   "cell_type": "code",
   "execution_count": 39,
   "metadata": {},
   "outputs": [
    {
     "name": "stdout",
     "output_type": "stream",
     "text": [
      "Це є тип даних <class 'set'> та його елементи {1, 'String', 'string', 'abc'}\n",
      "Ми добавили та видалили елементи, нові елементи Сету {1, 'string', 'abc'}\n"
     ]
    }
   ],
   "source": [
    "ss = {\"String\", \"abc\", \"string\", 1, 1.0, \"abc\"}\n",
    "print(f\"Це є тип даних {type(ss)} та його елементи {ss}\")\n",
    "ss.remove(\"String\")\n",
    "ss.add(\"abc\")\n",
    "print(f\"Ми добавили та видалили елементи, нові елементи Сету {ss}\")"
   ]
  },
  {
   "cell_type": "markdown",
   "metadata": {},
   "source": [
    "### Dict"
   ]
  },
  {
   "cell_type": "code",
   "execution_count": 53,
   "metadata": {},
   "outputs": [
    {
     "name": "stdout",
     "output_type": "stream",
     "text": [
      "Елементи словника {'name': 'Bobas', 'Мій вік': 27, 'age': None} та значення name дорівнює Bobas\n",
      "Додали / видалили нове значення {'Мій вік': 27, 'age': None, 'Нове значення': 'New'}\n"
     ]
    }
   ],
   "source": [
    "age = \"Мій вік\"\n",
    "name = \"name\"\n",
    "dd = {\"name\": \"Bohdan\", age: 33, \"age\": None, age: 27, name: \"Bobas\"}\n",
    "print(f\"Елементи словника {dd} та значення name дорівнює {dd['name']}\")\n",
    "dd['Нове значення'] = \"New\"\n",
    "dd.pop('name')\n",
    "print(f\"Додали / видалили нове значення {dd}\")"
   ]
  },
  {
   "cell_type": "code",
   "execution_count": 54,
   "metadata": {},
   "outputs": [
    {
     "name": "stdout",
     "output_type": "stream",
     "text": [
      "Значення False це не те саме що константа False\n"
     ]
    }
   ],
   "source": [
    "Falses = \"False\"\n",
    "print(f\"Значення {Falses} це не те саме що константа {False}\")"
   ]
  }
 ],
 "metadata": {
  "kernelspec": {
   "display_name": "Python 3.10.6 64-bit",
   "language": "python",
   "name": "python3"
  },
  "language_info": {
   "codemirror_mode": {
    "name": "ipython",
    "version": 3
   },
   "file_extension": ".py",
   "mimetype": "text/x-python",
   "name": "python",
   "nbconvert_exporter": "python",
   "pygments_lexer": "ipython3",
   "version": "3.10.6"
  },
  "orig_nbformat": 4,
  "vscode": {
   "interpreter": {
    "hash": "a42ccb73e7d9bfdf27e036f1d2b8b681e55fc0743cc5586bc2474d4a60f4b886"
   }
  }
 },
 "nbformat": 4,
 "nbformat_minor": 2
}
