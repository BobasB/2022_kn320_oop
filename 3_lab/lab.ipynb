{
 "cells": [
  {
   "cell_type": "markdown",
   "metadata": {},
   "source": [
    "### Створення базового класу та поняття ООП"
   ]
  },
  {
   "cell_type": "code",
   "execution_count": 7,
   "metadata": {},
   "outputs": [
    {
     "name": "stdout",
     "output_type": "stream",
     "text": [
      "<class 'str'>\n",
      "<class '__main__.MyFirstClass'>\n"
     ]
    }
   ],
   "source": [
    "a = \"Це стрічка\"\n",
    "print(type(a))\n",
    "\n",
    "class MyFirstClass:\n",
    "    pass\n",
    "\n",
    "b = MyFirstClass()\n",
    "print(type(b))"
   ]
  },
  {
   "cell_type": "markdown",
   "metadata": {},
   "source": [
    "### Робота з даними та з обєктами класів"
   ]
  },
  {
   "cell_type": "code",
   "execution_count": 30,
   "metadata": {},
   "outputs": [
    {
     "name": "stdout",
     "output_type": "stream",
     "text": [
      "Я маю тваринку Рибка яку звати Неон яка живе в мене 1 рік та може мати блохи False\n",
      "Я маю тваринку Кіт яку звати Мурка яка живе в мене 2 рік та може мати блохи True\n",
      "Я маю тваринку Собака яку звати Рекс яка живе в мене 6 рік та може мати блохи True\n",
      "------------- Тут починається ООП\n",
      "Це конструктор: Я маю тваринку Рибка з імям Неон\n",
      "Це конструктор: Я маю тваринку Рибка з імям Сомік\n",
      "Це конструктор: Я маю тваринку Кіт з імям Мурка\n",
      "Це конструктор: Я маю тваринку Собака з імям Рекс\n",
      "Яка тваринка <__main__.MyAnimals object at 0x000001CEC0137640> ? а як тепер взнати її імя?\n"
     ]
    }
   ],
   "source": [
    "animal_type = [\"Рибка\", \"Кіт\", \"Собака\"]\n",
    "name = [\"Неон\", \"Мурка\", \"Рекс\"]\n",
    "age = [1, 2, 6]\n",
    "has_fleas = [False, True, True]\n",
    "\n",
    "for i in range(3):\n",
    "    print(f\"Я маю тваринку {animal_type[i]} яку звати {name[i]} яка живе в мене {age[i]} рік та може мати блохи {has_fleas[i]}\")\n",
    "\n",
    "\n",
    "print(\"------------- Тут починається ООП\")\n",
    "class MyAnimals:\n",
    "    def __init__(self, animal_type, name) -> None:\n",
    "        print(f\"Це конструктор: Я маю тваринку {animal_type} з імям {name}\")\n",
    "        \n",
    "\n",
    "a1 = MyAnimals(\"Рибка\", \"Неон\")\n",
    "a2 = MyAnimals(\"Рибка\", \"Сомік\")\n",
    "a3 = MyAnimals(\"Кіт\", \"Мурка\")\n",
    "a4 = MyAnimals(\"Собака\", \"Рекс\")\n",
    "\n",
    "print(f\"Яка тваринка {a3} ? а як тепер взнати її імя?\")"
   ]
  },
  {
   "cell_type": "markdown",
   "metadata": {},
   "source": [
    "### Робота з атрибутами"
   ]
  },
  {
   "cell_type": "code",
   "execution_count": 44,
   "metadata": {},
   "outputs": [
    {
     "name": "stdout",
     "output_type": "stream",
     "text": [
      "Моя тваринка Рибка має імя Неон яка живе в мене >> Не знаю їх вік << років\n",
      "Моя тваринка Рибка має імя Сомік яка живе в мене >> Не знаю їх вік << років\n",
      "Моя тваринка Кіт має імя Мурка яка живе в мене 2 років\n",
      "Моя тваринка Собака має імя Рекс яка живе в мене 6 років\n",
      "\n"
     ]
    }
   ],
   "source": [
    "class MyAnimals:\n",
    "    def __init__(self, an_t, name, age = None) -> None:\n",
    "        self.animal_type = an_t #Вони можуть називатись по різному\n",
    "        self.name = name\n",
    "        self.age = \">> Не знаю їх вік <<\" if age == None else age\n",
    "        \n",
    "\n",
    "animals = [MyAnimals(\"Рибка\", \"Неон\"), MyAnimals(\"Рибка\", \"Сомік\"), MyAnimals(\"Кіт\", \"Мурка\", 2), MyAnimals(\"Собака\", \"Рекс\", 6)]\n",
    "\n",
    "for animal in animals:\n",
    "    print(f\"Моя тваринка {animal.animal_type} має імя {animal.name} яка живе в мене {animal.age} років\")\n"
   ]
  },
  {
   "cell_type": "markdown",
   "metadata": {},
   "source": [
    "### Методи класу"
   ]
  },
  {
   "cell_type": "code",
   "execution_count": 61,
   "metadata": {},
   "outputs": [
    {
     "name": "stdout",
     "output_type": "stream",
     "text": [
      "Рибка не вміє говорити |||| Кіт каже Мяууу\n",
      "Якби моя тваринка Кіт була людиною їй було б: 6 років і вона б ще жила 14 років\n",
      "Рибка не вміє говорити\n",
      "Рибка не вміє говорити\n"
     ]
    }
   ],
   "source": [
    "class MyAnimals:\n",
    "    def __init__(self, an_t, name, age = None) -> None:\n",
    "        self.animal_type = an_t #Вони можуть називатись по різному\n",
    "        self.name = name\n",
    "        self.age = \">> Не знаю їх вік <<\" if age == None else age\n",
    "\n",
    "    def speak(self):\n",
    "        if self.animal_type == \"Кіт\":\n",
    "            return \"Кіт каже Мяууу\"\n",
    "        elif self.animal_type == \"Собака\":\n",
    "            return \"Собака каже Гавв\"\n",
    "        else:\n",
    "            return f\"{self.animal_type} не вміє говорити\"\n",
    "    \n",
    "    def what_age_as_a_human(self):\n",
    "        if self.animal_type == \"Кіт\":\n",
    "            return self.age * 3\n",
    "        elif self.animal_type == \"Собака\":\n",
    "            return self.age * 4\n",
    "        else:\n",
    "            return f\"Невідомо для {self.animal_type}\"\n",
    "    \n",
    "    def how_long_to_live(self):\n",
    "        if self.animal_type == \"Кіт\":\n",
    "            return 16 - self.age\n",
    "        elif self.animal_type == \"Собака\":\n",
    "            return 22 - self.age\n",
    "        else:\n",
    "            return f\"Невідомо скільки живуть {self.animal_type}\"\n",
    "\n",
    "\n",
    "a1 = MyAnimals(\"Рибка\", \"Неон\")\n",
    "a2 = MyAnimals(\"Кіт\", \"Мурка\", 2)\n",
    "\n",
    "print(a1.speak(), \"||||\", a2.speak())\n",
    "\n",
    "print(f\"Якби моя тваринка {a2.animal_type} була людиною їй було б: { a2.what_age_as_a_human()} років і вона б ще жила {a2.how_long_to_live()} років\")\n",
    "\n",
    "## Різниця між селф\n",
    "print(MyAnimals.speak(a1))\n",
    "print(a1.speak())\n"
   ]
  },
  {
   "cell_type": "markdown",
   "metadata": {},
   "source": [
    "### Змінні класу"
   ]
  },
  {
   "cell_type": "code",
   "execution_count": 68,
   "metadata": {},
   "outputs": [
    {
     "name": "stdout",
     "output_type": "stream",
     "text": [
      "В мене є тваринки [] їх кількість 0\n",
      "В мене є тваринки {'Кіт', 'Рибка'} їх кількість 4\n",
      "Я доступаюсь до кількості тварин з класу 4 та з обєкту Рибка = 25, Кіт = 100\n"
     ]
    }
   ],
   "source": [
    "class MyAnimals:\n",
    "    total_animals = 0\n",
    "    total_animal_types = set()\n",
    "\n",
    "    def __init__(self, an_t, name, age = None) -> None:\n",
    "        self.animal_type = an_t #Вони можуть називатись по різному\n",
    "        self.name = name\n",
    "        self.age = \">> Не знаю їх вік <<\" if age == None else age\n",
    "        MyAnimals.total_animals += 1\n",
    "        MyAnimals.total_animal_types.add(an_t)\n",
    "\n",
    "print(f\"В мене є тваринки {list(MyAnimals.total_animal_types)} їх кількість {MyAnimals.total_animals}\")\n",
    "\n",
    "a1 = MyAnimals(\"Рибка\", \"Неон\")\n",
    "a2 = MyAnimals(\"Рибка\", \"Сомік\")\n",
    "a3 = MyAnimals(\"Кіт\", \"Мурка\")\n",
    "a4 = MyAnimals(\"Кіт\", \"Васька\")\n",
    "\n",
    "print(f\"В мене є тваринки {MyAnimals.total_animal_types} їх кількість {MyAnimals.total_animals}\")\n",
    "\n",
    "\n",
    "a1.total_animals = 25\n",
    "\n",
    "a3.total_animals = 100 # Це вже не класова змінна це динамічний атрибут обєкту\n",
    "\n",
    "print(f\"Я доступаюсь до кількості тварин з класу {MyAnimals.total_animals} та з обєкту {a1.animal_type} = {a1.total_animals}, {a3.animal_type} = {a3.total_animals}\")"
   ]
  },
  {
   "cell_type": "markdown",
   "metadata": {},
   "source": [
    "### Методи та статичні методи, поняття self"
   ]
  },
  {
   "cell_type": "code",
   "execution_count": 10,
   "metadata": {},
   "outputs": [
    {
     "name": "stdout",
     "output_type": "stream",
     "text": [
      "Я даю команду голос Собака: Собака каже Гавв\n",
      "Я даю команду голос Собака: Собака каже Гавв\n",
      "Виклике статичного методу з класу Тваринка поїла! Ми її нагодували :) та виклик з обєкту Тваринка поїла! Ми її нагодували :)\n"
     ]
    }
   ],
   "source": [
    "class MyAnimals:\n",
    "    def __init__(self, an_t, name) -> None:\n",
    "        \"\"\"Викликаємо конструктор.\n",
    "        \n",
    "        Parameters:\n",
    "            an_t: Тип тваринки;\n",
    "            name: Імя моєї тваринки; \n",
    "\n",
    "        return: None;\n",
    "        \"\"\"\n",
    "        self.animal_type = an_t #Вони можуть називатись по різному\n",
    "        self.name = name\n",
    "\n",
    "    def speak(self):\n",
    "        if self.animal_type == \"Кіт\":\n",
    "            return \"Кіт каже Мяууу\"\n",
    "        elif self.animal_type == \"Собака\":\n",
    "            return \"Собака каже Гавв\"\n",
    "        else:\n",
    "            return f\"{self.animal_type} не вміє говорити\"\n",
    "    \n",
    "    @staticmethod\n",
    "    def eat() -> str:\n",
    "        \"\"\"Ми годуємо тваринку.\n",
    "        Parameters: Ніяких параметрів передвати не потрібно;\n",
    "\n",
    "        return: Повідомлення чи тваринка поїла;\n",
    "        \"\"\"\n",
    "        return \"Тваринка поїла! Ми її нагодували :)\"\n",
    "\n",
    "a1 = MyAnimals(\"Собака\", \"Рекс\")\n",
    "print(f\"Я даю команду голос {a1.animal_type}: {a1.speak()}\")\n",
    "print(f\"Я даю команду голос {a1.animal_type}: {MyAnimals.speak(a1)}\")\n",
    "\n",
    "print(f\"Виклике статичного методу з класу {MyAnimals.eat()} та виклик з обєкту {a1.eat()}\")"
   ]
  },
  {
   "cell_type": "markdown",
   "metadata": {},
   "source": [
    "### Розглядаємо Властиковті (properties)"
   ]
  },
  {
   "cell_type": "code",
   "execution_count": 18,
   "metadata": {},
   "outputs": [
    {
     "name": "stdout",
     "output_type": "stream",
     "text": [
      "Я маю Собака, звати Рекс, принесла мені палку: Моя Собака принесла палку 1\n",
      "Я маю Собака, звати Рекс, принесла мені палку: Моя Собака принесла палку 2\n",
      "Я маю Собака, звати Рекс, принесла мені палку: Моя Собака принесла палку 3\n",
      "Я маю Собака, звати Рекс, принесла мені палку: Моя Собака принесла палку 4\n",
      "Я маю Собака, звати Рекс, принесла мені палку: Моя Собака принесла палку 5\n"
     ]
    }
   ],
   "source": [
    "class MyAnimals:\n",
    "    def __init__(self, type, name) -> None:\n",
    "        self.animal_type = type\n",
    "        self.name = name\n",
    "        self.actions = 0\n",
    "\n",
    "    @property\n",
    "    def bring_branch(self):\n",
    "        self.actions += 1\n",
    "        return f\"Моя {self.animal_type} принесла палку {self.actions}\"\n",
    "\n",
    "\n",
    "a1 = MyAnimals(\"Собака\", \"Рекс\")\n",
    "\n",
    "for _ in range(5):\n",
    "    print(f\"Я маю {a1.animal_type}, звати {a1.name}, принесла мені палку: {a1.bring_branch}\")"
   ]
  },
  {
   "cell_type": "markdown",
   "metadata": {},
   "source": [
    "### Класові методи"
   ]
  },
  {
   "cell_type": "code",
   "execution_count": 33,
   "metadata": {},
   "outputs": [
    {
     "name": "stdout",
     "output_type": "stream",
     "text": [
      "Моя тваринка Рекс під номером 1\n",
      "Моя тваринка Мурзик під номером 2\n"
     ]
    },
    {
     "ename": "AttributeError",
     "evalue": "'MyAnimals' object has no attribute 'planned'",
     "output_type": "error",
     "traceback": [
      "\u001b[1;31m---------------------------------------------------------------------------\u001b[0m",
      "\u001b[1;31mAttributeError\u001b[0m                            Traceback (most recent call last)",
      "\u001b[1;32mc:\\IT_College_Students\\2022_kn320_oop\\3_lab\\lab.ipynb Cell 16\u001b[0m in \u001b[0;36m<cell line: 22>\u001b[1;34m()\u001b[0m\n\u001b[0;32m     <a href='vscode-notebook-cell:/c%3A/IT_College_Students/2022_kn320_oop/3_lab/lab.ipynb#X21sZmlsZQ%3D%3D?line=18'>19</a>\u001b[0m \u001b[39mprint\u001b[39m(\u001b[39mf\u001b[39m\u001b[39m\"\u001b[39m\u001b[39mМоя тваринка \u001b[39m\u001b[39m{\u001b[39;00ma2\u001b[39m.\u001b[39mname\u001b[39m}\u001b[39;00m\u001b[39m під номером \u001b[39m\u001b[39m{\u001b[39;00ma2\u001b[39m.\u001b[39mid\u001b[39m}\u001b[39;00m\u001b[39m\"\u001b[39m)\n\u001b[0;32m     <a href='vscode-notebook-cell:/c%3A/IT_College_Students/2022_kn320_oop/3_lab/lab.ipynb#X21sZmlsZQ%3D%3D?line=19'>20</a>\u001b[0m \u001b[39m#print(f\"Моя тваринка {a3.name} під номером {a3.id}\")\u001b[39;00m\n\u001b[1;32m---> <a href='vscode-notebook-cell:/c%3A/IT_College_Students/2022_kn320_oop/3_lab/lab.ipynb#X21sZmlsZQ%3D%3D?line=21'>22</a>\u001b[0m a2\u001b[39m.\u001b[39;49mplanned\n",
      "\u001b[1;31mAttributeError\u001b[0m: 'MyAnimals' object has no attribute 'planned'"
     ]
    }
   ],
   "source": [
    "class MyAnimals:\n",
    "    counter = 0\n",
    "    def __init__(self, type, name) -> None:\n",
    "        self.animal_type = type\n",
    "        self.name = name\n",
    "        MyAnimals.counter += 1\n",
    "        self.id = MyAnimals.counter\n",
    "\n",
    "    @classmethod\n",
    "    def plan_to_buy_animal(clc):\n",
    "        clc.planned = True\n",
    "        return clc(\"Невідомо\", \"Ще не дано\")\n",
    "\n",
    "a1 = MyAnimals(\"Собака\", \"Рекс\")\n",
    "a2 = MyAnimals(\"Собака\", \"Мурзик\")\n",
    "#a3 = MyAnimals.plan_to_buy_animal()\n",
    "\n",
    "print(f\"Моя тваринка {a1.name} під номером {a1.id}\")\n",
    "print(f\"Моя тваринка {a2.name} під номером {a2.id}\")\n",
    "#print(f\"Моя тваринка {a3.name} під номером {a3.id}\")\n",
    "\n",
    "a2.planned"
   ]
  },
  {
   "cell_type": "code",
   "execution_count": 42,
   "metadata": {},
   "outputs": [
    {
     "data": {
      "text/plain": [
       "'Папероні'"
      ]
     },
     "execution_count": 42,
     "metadata": {},
     "output_type": "execute_result"
    }
   ],
   "source": [
    "class Піца:\n",
    "    def __init__(селф, імя):\n",
    "        селф.імя = імя\n",
    "    \n",
    "    def імя_піци(селф):\n",
    "        return селф.імя\n",
    "\n",
    "піца1 = Піца('Папероні')\n",
    "піца1.імя_піци()\n"
   ]
  },
  {
   "cell_type": "markdown",
   "metadata": {},
   "source": [
    "### Приватні атрибути та методи"
   ]
  },
  {
   "cell_type": "code",
   "execution_count": 23,
   "metadata": {},
   "outputs": [
    {
     "name": "stdout",
     "output_type": "stream",
     "text": [
      "Це атрибут має бути приватним\n",
      "Я змінив приватний атрибут\n",
      "Повертаю приватнний атрибут: Сюди ми доступитись не можемо!\n",
      "Сюди ми доступитись не можемо!\n",
      "Цей метод має викликатись тільки всередині класу\n",
      "Цей метод має викликатись тільки всередині класу та Цей метод неможливо викликати ззовні!\n",
      "<__main__.MyAnimals object at 0x0000019808A32110>\n"
     ]
    }
   ],
   "source": [
    "class MyAnimals:\n",
    "    def __init__(self, type, name, age) -> None:\n",
    "        self.animal_type = type\n",
    "        self.name = name\n",
    "        self.age = age\n",
    "        self._private = \"Це атрибут має бути приватним\"\n",
    "        self.__private = \"Сюди ми доступитись не можемо!\"\n",
    "    \n",
    "    @property\n",
    "    def private(self):\n",
    "        return f\"Повертаю приватнний атрибут: {self.__private}\"\n",
    "\n",
    "    def _this_is_private(self):\n",
    "        return \"Цей метод має викликатись тільки всередині класу\"\n",
    "    \n",
    "    def __do_not_touch_it(self):\n",
    "        return \"Цей метод неможливо викликати ззовні!\"\n",
    "\n",
    "    def print_private(self):\n",
    "        return f\"{self._this_is_private()} та {self.__do_not_touch_it()}\"\n",
    "\n",
    "\n",
    "a1 = MyAnimals(\"Собака\", \"Рекс\", 4)\n",
    "print(a1._private)\n",
    "a1._private = \"Я змінив приватний атрибут\" ### так робити не можна\n",
    "print(a1._private)\n",
    "#print(a1.__private) ## Це видасть помилку\n",
    "\n",
    "print(a1.private)\n",
    "## a1.private = \"Я міняю проперті!\" ## Це видасть помилку\n",
    "\n",
    "print(a1._MyAnimals__private) ## Так робити не можна\n",
    "\n",
    "print(a1._this_is_private())\n",
    "\n",
    "#print(a1.__do_not_touch_it()) ## Це видасть помилку\n",
    "\n",
    "print(a1.print_private())\n",
    "\n",
    "print(a1)\n"
   ]
  },
  {
   "cell_type": "markdown",
   "metadata": {},
   "source": [
    "### Представлення обєктів класу, та магічні методи"
   ]
  },
  {
   "cell_type": "code",
   "execution_count": 22,
   "metadata": {},
   "outputs": [
    {
     "name": "stdout",
     "output_type": "stream",
     "text": [
      "Це мій обєкт MyAnimals(\"Собака\", \"Рекс\", 4)\n",
      "MyAnimals(\"Собака\", \"Рекс\", 4)\n"
     ]
    }
   ],
   "source": [
    "class MyAnimals:\n",
    "    def __init__(self, type, name, age) -> None:\n",
    "        self.animal_type = type\n",
    "        self.name = name\n",
    "        self.age = age\n",
    "\n",
    "    def __repr__(self) -> str:\n",
    "        return f'MyAnimals(\"{self.animal_type}\", \"{self.name}\", {self.age})'\n",
    "\n",
    "    def __str__(self) -> str:\n",
    "        return f\"Це мій обєкт {self.__repr__()}\"\n",
    "\n",
    "a1 = MyAnimals(\"Собака\", \"Рекс\", 4)\n",
    "print(a1)\n",
    "print(repr(a1))\n"
   ]
  },
  {
   "cell_type": "markdown",
   "metadata": {},
   "source": [
    "### Магічні методи та арифметичні операції"
   ]
  },
  {
   "cell_type": "code",
   "execution_count": 43,
   "metadata": {},
   "outputs": [
    {
     "name": "stdout",
     "output_type": "stream",
     "text": [
      "3 2 -1\n",
      "3 2 -1\n",
      "Наш Рекс покусав Мурзик\n",
      "Мій Рекс зїв 2 пачки корму, ще має зїсти 2\n",
      "<class 'NotImplementedError'>\n",
      "Рекс зїдає більше ніж Мурзик\n"
     ]
    }
   ],
   "source": [
    "a = int(1)\n",
    "b = 2\n",
    "\n",
    "print(a + b, a * b, a - b)\n",
    "print(a.__add__(b), a.__mul__(b), a.__sub__(b))\n",
    "\n",
    "class MyAnimals:\n",
    "    def __init__(self, type, name, eat) -> None:\n",
    "        self.animal_type = type\n",
    "        self.name = name\n",
    "        self.eat = eat\n",
    "\n",
    "    def __sub__(self, obj):\n",
    "        if isinstance(obj, MyAnimals):\n",
    "            return f\"Наш {self.name} покусав {obj.name}\"\n",
    "        elif isinstance(obj, int):\n",
    "            self.eat -= obj\n",
    "            return f\"Мій {self.name} зїв {obj} пачки корму, ще має зїсти {self.eat}\"\n",
    "        return NotImplementedError\n",
    "    \n",
    "    def __gt__(self, obj):\n",
    "        if isinstance(obj, MyAnimals):\n",
    "            if self.eat > obj.eat:\n",
    "                return f\"{self.name} зїдає більше ніж {obj.name}\"\n",
    "            return f\"Ні {self.name} не їсть більше!\"\n",
    "        return NotImplementedError\n",
    "\n",
    "\n",
    "a = MyAnimals(\"Собака\", \"Рекс\", 4)\n",
    "b = MyAnimals(\"Кіт\", \"Мурзик\", 1)\n",
    "\n",
    "print(a - b)\n",
    "print(a - 2)\n",
    "print(a - str(\"Їсти!\"))\n",
    "\n",
    "print(a > b)"
   ]
  }
 ],
 "metadata": {
  "kernelspec": {
   "display_name": "Python 3.10.6 64-bit",
   "language": "python",
   "name": "python3"
  },
  "language_info": {
   "codemirror_mode": {
    "name": "ipython",
    "version": 3
   },
   "file_extension": ".py",
   "mimetype": "text/x-python",
   "name": "python",
   "nbconvert_exporter": "python",
   "pygments_lexer": "ipython3",
   "version": "3.10.6"
  },
  "orig_nbformat": 4,
  "vscode": {
   "interpreter": {
    "hash": "a42ccb73e7d9bfdf27e036f1d2b8b681e55fc0743cc5586bc2474d4a60f4b886"
   }
  }
 },
 "nbformat": 4,
 "nbformat_minor": 2
}
