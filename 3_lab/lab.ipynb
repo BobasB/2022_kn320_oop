{
 "cells": [
  {
   "cell_type": "markdown",
   "metadata": {},
   "source": [
    "### Створення базового класу та поняття ООП"
   ]
  },
  {
   "cell_type": "code",
   "execution_count": 7,
   "metadata": {},
   "outputs": [
    {
     "name": "stdout",
     "output_type": "stream",
     "text": [
      "<class 'str'>\n",
      "<class '__main__.MyFirstClass'>\n"
     ]
    }
   ],
   "source": [
    "a = \"Це стрічка\"\n",
    "print(type(a))\n",
    "\n",
    "class MyFirstClass:\n",
    "    pass\n",
    "\n",
    "b = MyFirstClass()\n",
    "print(type(b))"
   ]
  },
  {
   "cell_type": "markdown",
   "metadata": {},
   "source": [
    "### Робота з даними та з обєктами класів"
   ]
  },
  {
   "cell_type": "code",
   "execution_count": 30,
   "metadata": {},
   "outputs": [
    {
     "name": "stdout",
     "output_type": "stream",
     "text": [
      "Я маю тваринку Рибка яку звати Неон яка живе в мене 1 рік та може мати блохи False\n",
      "Я маю тваринку Кіт яку звати Мурка яка живе в мене 2 рік та може мати блохи True\n",
      "Я маю тваринку Собака яку звати Рекс яка живе в мене 6 рік та може мати блохи True\n",
      "------------- Тут починається ООП\n",
      "Це конструктор: Я маю тваринку Рибка з імям Неон\n",
      "Це конструктор: Я маю тваринку Рибка з імям Сомік\n",
      "Це конструктор: Я маю тваринку Кіт з імям Мурка\n",
      "Це конструктор: Я маю тваринку Собака з імям Рекс\n",
      "Яка тваринка <__main__.MyAnimals object at 0x000001CEC0137640> ? а як тепер взнати її імя?\n"
     ]
    }
   ],
   "source": [
    "animal_type = [\"Рибка\", \"Кіт\", \"Собака\"]\n",
    "name = [\"Неон\", \"Мурка\", \"Рекс\"]\n",
    "age = [1, 2, 6]\n",
    "has_fleas = [False, True, True]\n",
    "\n",
    "for i in range(3):\n",
    "    print(f\"Я маю тваринку {animal_type[i]} яку звати {name[i]} яка живе в мене {age[i]} рік та може мати блохи {has_fleas[i]}\")\n",
    "\n",
    "\n",
    "print(\"------------- Тут починається ООП\")\n",
    "class MyAnimals:\n",
    "    def __init__(self, animal_type, name) -> None:\n",
    "        print(f\"Це конструктор: Я маю тваринку {animal_type} з імям {name}\")\n",
    "        \n",
    "\n",
    "a1 = MyAnimals(\"Рибка\", \"Неон\")\n",
    "a2 = MyAnimals(\"Рибка\", \"Сомік\")\n",
    "a3 = MyAnimals(\"Кіт\", \"Мурка\")\n",
    "a4 = MyAnimals(\"Собака\", \"Рекс\")\n",
    "\n",
    "print(f\"Яка тваринка {a3} ? а як тепер взнати її імя?\")"
   ]
  },
  {
   "cell_type": "markdown",
   "metadata": {},
   "source": [
    "### Робота з атрибутами"
   ]
  },
  {
   "cell_type": "code",
   "execution_count": 44,
   "metadata": {},
   "outputs": [
    {
     "name": "stdout",
     "output_type": "stream",
     "text": [
      "Моя тваринка Рибка має імя Неон яка живе в мене >> Не знаю їх вік << років\n",
      "Моя тваринка Рибка має імя Сомік яка живе в мене >> Не знаю їх вік << років\n",
      "Моя тваринка Кіт має імя Мурка яка живе в мене 2 років\n",
      "Моя тваринка Собака має імя Рекс яка живе в мене 6 років\n",
      "\n"
     ]
    }
   ],
   "source": [
    "class MyAnimals:\n",
    "    def __init__(self, an_t, name, age = None) -> None:\n",
    "        self.animal_type = an_t #Вони можуть називатись по різному\n",
    "        self.name = name\n",
    "        self.age = \">> Не знаю їх вік <<\" if age == None else age\n",
    "        \n",
    "\n",
    "animals = [MyAnimals(\"Рибка\", \"Неон\"), MyAnimals(\"Рибка\", \"Сомік\"), MyAnimals(\"Кіт\", \"Мурка\", 2), MyAnimals(\"Собака\", \"Рекс\", 6)]\n",
    "\n",
    "for animal in animals:\n",
    "    print(f\"Моя тваринка {animal.animal_type} має імя {animal.name} яка живе в мене {animal.age} років\")\n"
   ]
  },
  {
   "cell_type": "markdown",
   "metadata": {},
   "source": [
    "### Методи класу"
   ]
  },
  {
   "cell_type": "code",
   "execution_count": 61,
   "metadata": {},
   "outputs": [
    {
     "name": "stdout",
     "output_type": "stream",
     "text": [
      "Рибка не вміє говорити |||| Кіт каже Мяууу\n",
      "Якби моя тваринка Кіт була людиною їй було б: 6 років і вона б ще жила 14 років\n",
      "Рибка не вміє говорити\n",
      "Рибка не вміє говорити\n"
     ]
    }
   ],
   "source": [
    "class MyAnimals:\n",
    "    def __init__(self, an_t, name, age = None) -> None:\n",
    "        self.animal_type = an_t #Вони можуть називатись по різному\n",
    "        self.name = name\n",
    "        self.age = \">> Не знаю їх вік <<\" if age == None else age\n",
    "\n",
    "    def speak(self):\n",
    "        if self.animal_type == \"Кіт\":\n",
    "            return \"Кіт каже Мяууу\"\n",
    "        elif self.animal_type == \"Собака\":\n",
    "            return \"Собака каже Гавв\"\n",
    "        else:\n",
    "            return f\"{self.animal_type} не вміє говорити\"\n",
    "    \n",
    "    def what_age_as_a_human(self):\n",
    "        if self.animal_type == \"Кіт\":\n",
    "            return self.age * 3\n",
    "        elif self.animal_type == \"Собака\":\n",
    "            return self.age * 4\n",
    "        else:\n",
    "            return f\"Невідомо для {self.animal_type}\"\n",
    "    \n",
    "    def how_long_to_live(self):\n",
    "        if self.animal_type == \"Кіт\":\n",
    "            return 16 - self.age\n",
    "        elif self.animal_type == \"Собака\":\n",
    "            return 22 - self.age\n",
    "        else:\n",
    "            return f\"Невідомо скільки живуть {self.animal_type}\"\n",
    "\n",
    "\n",
    "a1 = MyAnimals(\"Рибка\", \"Неон\")\n",
    "a2 = MyAnimals(\"Кіт\", \"Мурка\", 2)\n",
    "\n",
    "print(a1.speak(), \"||||\", a2.speak())\n",
    "\n",
    "print(f\"Якби моя тваринка {a2.animal_type} була людиною їй було б: { a2.what_age_as_a_human()} років і вона б ще жила {a2.how_long_to_live()} років\")\n",
    "\n",
    "\n",
    "print(MyAnimals.speak(a1))\n",
    "print(a1.speak())\n"
   ]
  },
  {
   "cell_type": "markdown",
   "metadata": {},
   "source": [
    "### Змінні класу"
   ]
  },
  {
   "cell_type": "code",
   "execution_count": 68,
   "metadata": {},
   "outputs": [
    {
     "name": "stdout",
     "output_type": "stream",
     "text": [
      "В мене є тваринки [] їх кількість 0\n",
      "В мене є тваринки {'Кіт', 'Рибка'} їх кількість 4\n",
      "Я доступаюсь до кількості тварин з класу 4 та з обєкту Рибка = 25, Кіт = 100\n"
     ]
    }
   ],
   "source": [
    "class MyAnimals:\n",
    "    total_animals = 0\n",
    "    total_animal_types = set()\n",
    "\n",
    "    def __init__(self, an_t, name, age = None) -> None:\n",
    "        self.animal_type = an_t #Вони можуть називатись по різному\n",
    "        self.name = name\n",
    "        self.age = \">> Не знаю їх вік <<\" if age == None else age\n",
    "        MyAnimals.total_animals += 1\n",
    "        MyAnimals.total_animal_types.add(an_t)\n",
    "\n",
    "print(f\"В мене є тваринки {list(MyAnimals.total_animal_types)} їх кількість {MyAnimals.total_animals}\")\n",
    "\n",
    "a1 = MyAnimals(\"Рибка\", \"Неон\")\n",
    "a2 = MyAnimals(\"Рибка\", \"Сомік\")\n",
    "a3 = MyAnimals(\"Кіт\", \"Мурка\")\n",
    "a4 = MyAnimals(\"Кіт\", \"Васька\")\n",
    "\n",
    "print(f\"В мене є тваринки {MyAnimals.total_animal_types} їх кількість {MyAnimals.total_animals}\")\n",
    "\n",
    "\n",
    "a1.total_animals = 25\n",
    "\n",
    "a3.total_animals = 100 # Це вже не класова змінна це динамічний атрибут обєкту\n",
    "\n",
    "print(f\"Я доступаюсь до кількості тварин з класу {MyAnimals.total_animals} та з обєкту {a1.animal_type} = {a1.total_animals}, {a3.animal_type} = {a3.total_animals}\")"
   ]
  }
 ],
 "metadata": {
  "kernelspec": {
   "display_name": "Python 3.10.6 64-bit",
   "language": "python",
   "name": "python3"
  },
  "language_info": {
   "codemirror_mode": {
    "name": "ipython",
    "version": 3
   },
   "file_extension": ".py",
   "mimetype": "text/x-python",
   "name": "python",
   "nbconvert_exporter": "python",
   "pygments_lexer": "ipython3",
   "version": "3.10.6"
  },
  "orig_nbformat": 4,
  "vscode": {
   "interpreter": {
    "hash": "a42ccb73e7d9bfdf27e036f1d2b8b681e55fc0743cc5586bc2474d4a60f4b886"
   }
  }
 },
 "nbformat": 4,
 "nbformat_minor": 2
}
